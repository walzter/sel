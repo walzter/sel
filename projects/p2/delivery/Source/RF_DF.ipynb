{
 "cells": [
  {
   "cell_type": "markdown",
   "metadata": {},
   "source": [
    "## Random Forrest & Decision Forrest"
   ]
  },
  {
   "cell_type": "code",
   "execution_count": 1,
   "metadata": {},
   "outputs": [],
   "source": [
    "## imports \n",
    "import numpy as np \n",
    "import pandas as pd \n",
    "import matplotlib.pyplot as plt"
   ]
  },
  {
   "cell_type": "code",
   "execution_count": 56,
   "metadata": {},
   "outputs": [],
   "source": [
    "## dictionary for the dataset name & paths \n",
    "DATASETS ={\n",
    "    \"small\":\"../Data/small/glass.csv\",\n",
    "    \"medium\":\"../Data/medium/drug_consumption.data\",\n",
    "    \"large\":\"../Data/large/c2k_data_comma.csv\"\n",
    "               }\n",
    "\n",
    "## Data Split Parameters \n",
    "TRAIN_SIZE = 0.8\n",
    "TEST_SIZE = 1 - TRAIN_SIZE\n",
    "\n",
    "## Random Forest Parameters\n",
    "NUM_TREES = 100 ## 1,10,25,50,75,100 \n",
    "NUM_FEATURES = 10  ## 1,3, int(log_2(M)+1), sqrt(M), where M is the number of features\n"
   ]
  },
  {
   "cell_type": "code",
   "execution_count": 57,
   "metadata": {},
   "outputs": [
    {
     "name": "stdout",
     "output_type": "stream",
     "text": [
      "True No empty values\n"
     ]
    }
   ],
   "source": [
    "## reading the small dataset \n",
    "small = pd.read_csv(DATASETS[\"small\"],header=None)\n",
    "## checking empty values \n",
    "print(small.isna().sum().sum() == small.isnull().sum().sum(),\"No empty values\")"
   ]
  },
  {
   "cell_type": "code",
   "execution_count": 64,
   "metadata": {},
   "outputs": [],
   "source": [
    "## data splitting \n",
    "from sklearn.model_selection import train_test_split\n",
    "## split into the train and test sets, stratify the data\n",
    "train, test = train_test_split(small,test_size=TEST_SIZE)"
   ]
  },
  {
   "cell_type": "code",
   "execution_count": null,
   "metadata": {},
   "outputs": [],
   "source": []
  },
  {
   "cell_type": "code",
   "execution_count": null,
   "metadata": {},
   "outputs": [],
   "source": []
  }
 ],
 "metadata": {
  "interpreter": {
   "hash": "ac6858c3dbc49267e902ff986705b591b9d7b57befff84fd7d814fe16c4a8e1f"
  },
  "kernelspec": {
   "display_name": "Python 3.8.5",
   "language": "python",
   "name": "python3"
  },
  "language_info": {
   "codemirror_mode": {
    "name": "ipython",
    "version": 3
   },
   "file_extension": ".py",
   "mimetype": "text/x-python",
   "name": "python",
   "nbconvert_exporter": "python",
   "pygments_lexer": "ipython3",
   "version": "3.8.5"
  },
  "orig_nbformat": 4
 },
 "nbformat": 4,
 "nbformat_minor": 2
}
